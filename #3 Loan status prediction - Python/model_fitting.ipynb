{
 "cells": [
  {
   "cell_type": "markdown",
   "id": "3fe15b0d",
   "metadata": {},
   "source": [
    "# Loan status prediction\n",
    "##### This dataset was obtained from [Kaggle](https://www.kaggle.com/datasets/bhavikjikadara/loan-status-prediction)\n",
    "For further detail refer to *descriptive_analysis.ipynb* or *pre_modelling_process.ipynb* notebooks"
   ]
  },
  {
   "cell_type": "code",
   "execution_count": 2,
   "id": "e176b275",
   "metadata": {},
   "outputs": [],
   "source": [
    "import sys\n",
    "import sklearn as sk\n",
    "import pandas as pd\n",
    "import matplotlib.pyplot as plt\n",
    "import numpy as np"
   ]
  },
  {
   "cell_type": "markdown",
   "id": "de0ac0ed",
   "metadata": {},
   "source": [
    "The following process was conducted carefully in *pre_modelling_process.ipynb* notebook and enhanced in the current one. Refer to the former for further detail"
   ]
  },
  {
   "cell_type": "code",
   "execution_count": 12,
   "id": "659dd3ce",
   "metadata": {},
   "outputs": [],
   "source": [
    "# Load the imputed data\n",
    "df = pd.read_csv(\"loan_data_imp.csv\") \n",
    "####################################################################################################\n",
    "# Recode variables:\n",
    "df['Married'] = df['Married'].replace({'Yes': 1, 'No': 0})\n",
    "df['Education'] = df['Education'].replace({'Graduate': 1, 'Not Graduate': 0})\n",
    "df['Self_Employed'] = df['Married'].replace({'Yes': 1, 'No': 0})\n",
    "df['Loan_Status'] = df['Loan_Status'].replace({'Y': 1, 'N': 0})\n",
    "\n",
    "####################################################################################################\n",
    "# Import methods to transform categorical features \n",
    "# Many methods do not work with object/string type features and thus these must be recoded\n",
    "from sklearn.compose import ColumnTransformer\n",
    "# Categorical features will be recoded using an ordinal encoder for further sequential feature selection\n",
    "from sklearn.preprocessing import OrdinalEncoder\n",
    "\n",
    "numerical_features = ['LoanAmount', 'Loan_Amount_Term', 'ApplicantIncome', 'CoapplicantIncome']\n",
    "columns_to_keep_same = []\n",
    "columns_to_keep_same.extend(numerical_features)\n",
    "columns_to_keep_same.extend(['Loan_ID'])\n",
    "\n",
    "categorical_features = df.columns.difference(columns_to_keep_same).tolist()\n",
    "\n",
    "# Create a ColumnTransformer to apply one-hot encoding to categorical features\n",
    "preprocessor = ColumnTransformer(\n",
    "    transformers=[\n",
    "        ('cat', OrdinalEncoder(), categorical_features)\n",
    "    ],\n",
    "    remainder='passthrough'  # Pass through numerical features without any transformation\n",
    ")\n",
    "\n",
    "# The preprocessor will return the transformed data with a different column order from the original df\n",
    "# Later I will turn the np.array into a pd.DataFrame and for that I need the right column order\n",
    "import re\n",
    "# First get the feature names ordered from the preprocessor\n",
    "preprocessor_feature_names = preprocessor.fit(df).get_feature_names_out()\n",
    "\n",
    "# Clean the \"cat__\" and \"remainder__\" prefixes\n",
    "cleaned_feature_names = [re.sub(r'^(cat__|remainder__)', '', name) for name in preprocessor_feature_names]\n",
    "\n",
    "# Transform the data\n",
    "df = preprocessor.fit_transform(df)\n",
    "df = pd.DataFrame(df, columns = cleaned_feature_names)\n",
    "####################################################################################################\n",
    "# Import the MinMaxScaler from the preprocessing module of sklearn\n",
    "from sklearn.preprocessing import MinMaxScaler \n",
    "scaler = MinMaxScaler()\n",
    "\n",
    "df_norm = pd.DataFrame(scaler.fit_transform(df[numerical_features]), columns = numerical_features)\n",
    "# Now combine the non-numerical features data with the normalised features\n",
    "df_norm = df.drop(numerical_features, axis = 1).join(df_norm)\n",
    "\n",
    "####################################################################################################\n",
    "# Import the train_test_split function from the model_selection module\n",
    "from sklearn.model_selection import train_test_split\n",
    "\n",
    "df.sample(frac = 1, random_state = 25).reset_index(drop = True)\n",
    "\n",
    "# Split approved loan data\n",
    "X_train, X_test, y_train, y_test = train_test_split(df.drop(['Loan_Status', 'Loan_ID'], axis = 1), df['Loan_Status'], \n",
    "                                                    test_size = 0.2, random_state = 25, stratify = df['Loan_Status']) \n",
    "# with stratify = df['Loan_Status'] assures that we keep 71% approved and 29% rejected for both train and test sets\n",
    "# Repeat the process for normalised data\n",
    "df_norm.sample(frac = 1, random_state = 25).reset_index(drop = True)\n",
    "\n",
    "X_n_train, X_n_test, y_n_train, y_n_test = train_test_split(df_norm.drop(['Loan_Status', 'Loan_ID'], axis = 1), \n",
    "                                                            df_norm['Loan_Status'], \n",
    "                                                            test_size = 0.2, random_state = 25, \n",
    "                                                            stratify = df_norm['Loan_Status']) \n",
    "# We write y_n_train and y_n_train to avoid error messages, but we will only use y_train and y_test as they are exactly the same\n",
    "####################################################################################################\n",
    "# Lastly, recode the response \n",
    "from sklearn.preprocessing import LabelEncoder\n",
    "label_encoder = LabelEncoder()\n",
    "\n",
    "y_train = label_encoder.fit_transform(y_train)\n",
    "y_test = label_encoder.fit_transform(y_test)\n",
    "\n",
    "####################################################################################################\n",
    "# Create subset of features according to the results Feature Importance Analysis\n",
    "\n",
    "X_train_sub = X_train.drop(['Education', 'Married', 'Gender', 'Self_Employed'], axis = 1)\n",
    "X_test_sub = X_test.drop(['Education', 'Married', 'Gender', 'Self_Employed'], axis = 1)\n",
    "\n",
    "X_n_train_sub = X_n_train.drop(['Education', 'Married', 'Gender', 'Self_Employed'], axis = 1)\n",
    "X_n_test_sub = X_n_test.drop(['Education', 'Married', 'Gender', 'Self_Employed'], axis = 1)"
   ]
  },
  {
   "cell_type": "markdown",
   "id": "2509b78d",
   "metadata": {},
   "source": [
    "## Model fitting process"
   ]
  },
  {
   "cell_type": "markdown",
   "id": "d81b316b",
   "metadata": {},
   "source": [
    "### 1. Logistic Regression\n",
    "When using logistic regression models, we must use the normalised/standardise features"
   ]
  },
  {
   "cell_type": "code",
   "execution_count": 9,
   "id": "dc10d5b0",
   "metadata": {},
   "outputs": [],
   "source": [
    "# Import module with model\n",
    "from sklearn import linear_model as lm\n",
    "\n",
    "# Import methods to test model's perfrormance\n",
    "from sklearn.metrics import classification_report, confusion_matrix\n",
    "\n",
    "# Import method for feature selection\n",
    "from mlxtend.feature_selection import SequentialFeatureSelector as SFS\n",
    "\n",
    "# Import method for cross validation and hyperparameter tunning \n",
    "from sklearn.model_selection import cross_val_score, GridSearchCV"
   ]
  },
  {
   "cell_type": "code",
   "execution_count": 10,
   "id": "7262cf81",
   "metadata": {},
   "outputs": [],
   "source": [
    "# Load the Logistic Regression model\n",
    "logreg = lm.LogisticRegression(solver = 'liblinear', random_state = 25)"
   ]
  },
  {
   "cell_type": "code",
   "execution_count": 13,
   "id": "797d38dd",
   "metadata": {},
   "outputs": [
    {
     "name": "stdout",
     "output_type": "stream",
     "text": [
      "0.8181818181818182\n"
     ]
    }
   ],
   "source": [
    "# Fit the model including all features\n",
    "logreg_model_all = logreg.fit(X = X_n_train, y = y_train)\n",
    "print(logreg_model_all.score(X_n_test, y_test))"
   ]
  },
  {
   "cell_type": "code",
   "execution_count": 14,
   "id": "6fe3c3ce",
   "metadata": {},
   "outputs": [
    {
     "name": "stdout",
     "output_type": "stream",
     "text": [
      "0.8181818181818182\n"
     ]
    }
   ],
   "source": [
    "# Fit the model including only relevant features\n",
    "logreg_model_rel = logreg.fit(X = X_n_train_sub, y = y_train)\n",
    "print(logreg_model_rel.score(X_n_test_sub, y_test))"
   ]
  },
  {
   "cell_type": "code",
   "execution_count": 16,
   "id": "1cde27cd",
   "metadata": {},
   "outputs": [
    {
     "name": "stdout",
     "output_type": "stream",
     "text": [
      "0.8515384615384616\n"
     ]
    }
   ],
   "source": [
    "# Fit the model using cross-validation\n",
    "print(cross_val_score(logreg, X_n_train_sub, y_train, cv = 25).mean())"
   ]
  },
  {
   "cell_type": "code",
   "execution_count": 18,
   "id": "c961f6e0",
   "metadata": {},
   "outputs": [],
   "source": [
    "# Now let's aim for hyperparameter tunning\n",
    "from sklearn.pipeline import Pipeline\n",
    "pipe = Pipeline([(\"classifier\", lm.LogisticRegression(solver = \"liblinear\"))])\n",
    "\n",
    "# solver = \"liblinear\" works fine for small datasets such as the current\n",
    "\n",
    "search_space = [\n",
    "    {\"classifier\" : [lm.LogisticRegression(solver = \"liblinear\")],\n",
    "     \"classifier__penalty\" : [\"l1\", \"l2\"],\n",
    "     \"classifier__max_iter\" : [500, 1000],\n",
    "     \"classifier__C\" : [0.1, 0.5, 1, 2, 5, 10, 25, 50, 100, 250, 500, 1000]}\n",
    "]\n",
    "\n",
    "clf = GridSearchCV(pipe, search_space, cv = 10, verbose = 0, n_jobs = -1)"
   ]
  },
  {
   "cell_type": "code",
   "execution_count": 20,
   "id": "6ba528e5",
   "metadata": {},
   "outputs": [
    {
     "name": "stdout",
     "output_type": "stream",
     "text": [
      "LogisticRegression(C=0.1, max_iter=500, penalty='l1', solver='liblinear')\n"
     ]
    }
   ],
   "source": [
    "logreg_best = clf.fit(X_n_train_sub, y_train)\n",
    "print(logreg_best.best_estimator_.get_params()[\"classifier\"])"
   ]
  },
  {
   "cell_type": "markdown",
   "id": "1ce5636d",
   "metadata": {},
   "source": [
    "After testing the sets of hyperparameters above, the conclusion is that the best hyperparameters for a logistic regression model with \"liblinear\" solver are with penalty L1 (Ridge) and C = 0.1, that is quite a strong regularization. A top of 500 iterations was enough, meaning that we did not get any issues with convergence (as expected given the dataset size and the number of features included in the model)."
   ]
  },
  {
   "cell_type": "markdown",
   "id": "10e6d62f",
   "metadata": {},
   "source": [
    "#### Model evaluation\n",
    "In this stage we will evaluate the model's performance through different measures and indicators that quantify the predictive capabilities of the model.\n",
    "\n",
    "- Confusion Matrix: The confusion matrix presents a tabular summary of the model's performance by comparing predicted class labels with the true class labels. It consists of four terms:\n",
    "    - True Positive (TP): The model predicted the positive class correctly.\n",
    "    - True Negative (TN): The model predicted the negative class correctly.\n",
    "    - False Positive (FP): The model predicted the positive class incorrectly.\n",
    "    - False Negative (FN): The model predicted the negative class incorrectly.\n",
    "\n",
    "- Accuracy: Accuracy is the most commonly used metric, representing the overall correctness of the model's predictions. It is calculated as (TP + TN) / (TP + TN + FP + FN).\n",
    "\n",
    "- Precision: Precision measures the model's ability to correctly predict the positive class. It is calculated as TP / (TP + FP). Precision is useful when the cost of false positives is high.\n",
    "\n",
    "- Recall (Sensitivity/True Positive Rate): Recall quantifies the model's ability to correctly identify the positive class instances. It is calculated as TP / (TP + FN). Recall is important when the cost of false negatives is high.\n",
    "\n",
    "- Specificity: Specificity measures the model's ability to correctly identify the negative class instances. It is calculated as TN / (TN + FP). Specificity is important when the cost of false positives is high.\n",
    "\n",
    "- F1 Score: The F1 score combines precision and recall into a single metric. It is the harmonic mean of precision and recall and provides a balanced measure. The F1 score is calculated as 2 * (Precision * Recall) / (Precision + Recall).\n",
    "\n",
    "Additionaly we will explore different probability thresholds that result in more adecuate outcomes for the business, i.e. that the false positive are very low, if not null. Recall that it is very important to avoid approving loans to people who will not be able to pay them. That would result in major losses for the company.\n",
    "Scikit-learn uses the probability threshold as P>=0.5"
   ]
  },
  {
   "cell_type": "code",
   "execution_count": 24,
   "id": "5834190c",
   "metadata": {},
   "outputs": [],
   "source": [
    "from sklearn.metrics import f1_score, precision_score, recall_score, roc_auc_score, roc_curve, precision_recall_curve, ConfusionMatrixDisplay"
   ]
  },
  {
   "cell_type": "code",
   "execution_count": 23,
   "id": "5444461e",
   "metadata": {},
   "outputs": [],
   "source": [
    "# Make predictions on the test set\n",
    "y_pred = logreg_best.predict(X_n_test_sub)\n",
    "y_prob = logreg_best.predict_proba(X_n_test_sub)#[:, 1]"
   ]
  },
  {
   "cell_type": "code",
   "execution_count": 37,
   "id": "6ad76fd9",
   "metadata": {
    "scrolled": false
   },
   "outputs": [
    {
     "name": "stdout",
     "output_type": "stream",
     "text": [
      "Logistic regression presicion score: 0.797\n",
      "Logistic regression recall score: 1.0\n",
      "Logistic regression ROC score: 0.682\n",
      "Logistic regression F1 score: 0.887\n"
     ]
    }
   ],
   "source": [
    "logreg_precision_score = precision_score(y_test, y_pred)\n",
    "logreg_recall_score = recall_score(y_test, y_pred)\n",
    "logreg_roc_auc_score = roc_auc_score(y_test, y_pred)\n",
    "logreg_f1_score = f1_score(y_test, y_pred)\n",
    "\n",
    "print('Logistic regression presicion score: ' + str(round(logreg_precision_score,3)))\n",
    "print('Logistic regression recall score: ' + str(round(logreg_recall_score,3)))\n",
    "print('Logistic regression ROC score: ' + str(round(logreg_roc_auc_score,3)))\n",
    "print('Logistic regression F1 score: ' + str(round(logreg_f1_score,3)))"
   ]
  },
  {
   "cell_type": "code",
   "execution_count": 39,
   "id": "1b3e8968",
   "metadata": {},
   "outputs": [
    {
     "data": {
      "text/plain": [
       "(0.0, 1.0)"
      ]
     },
     "execution_count": 39,
     "metadata": {},
     "output_type": "execute_result"
    },
    {
     "data": {
      "image/png": "[encoded data removed]",
      "text/plain": [
       "<Figure size 640x480 with 1 Axes>"
      ]
     },
     "metadata": {},
     "output_type": "display_data"
    }
   ],
   "source": [
    "# Precision-Recall vs Threshold\n",
    "precision, recall, thresholds = precision_recall_curve(y_test, y_prob [:,1]) \n",
    "\n",
    "plt.title(\"Precision-Recall vs Threshold Chart\")\n",
    "plt.plot(thresholds, precision[: -1], \"b--\", label=\"Precision\")\n",
    "plt.plot(thresholds, recall[: -1], \"r--\", label=\"Recall\")\n",
    "plt.ylabel(\"Precision, Recall\")\n",
    "plt.xlabel(\"Threshold\")\n",
    "plt.legend(loc=\"lower left\")\n",
    "plt.ylim([0,1])"
   ]
  },
  {
   "cell_type": "code",
   "execution_count": 41,
   "id": "064eb9d4",
   "metadata": {},
   "outputs": [
    {
     "data": {
      "text/plain": [
       "<sklearn.metrics._plot.roc_curve.RocCurveDisplay at 0x1eed5977c40>"
      ]
     },
     "execution_count": 41,
     "metadata": {},
     "output_type": "execute_result"
    },
    {
     "data": {
      "image/png": "[encoded data removed]",
      "text/plain": [
       "<Figure size 640x480 with 1 Axes>"
      ]
     },
     "metadata": {},
     "output_type": "display_data"
    }
   ],
   "source": [
    "# ROC Curve\n",
    "from sklearn.metrics import RocCurveDisplay\n",
    "RocCurveDisplay.from_predictions(y_test, y_pred, plot_chance_level = True)"
   ]
  },
  {
   "cell_type": "markdown",
   "id": "8d545b78",
   "metadata": {},
   "source": [
    "Basically we have an increasingly false positive rate along we get a higher true positive rate. That is, if we want to get a reasonable amount of true positives, we will also get higher false positives very easily. "
   ]
  },
  {
   "cell_type": "code",
   "execution_count": 44,
   "id": "2483eae0",
   "metadata": {},
   "outputs": [
    {
     "data": {
      "text/plain": [
       "array([[ 8, 14],\n",
       "       [ 0, 55]], dtype=int64)"
      ]
     },
     "execution_count": 44,
     "metadata": {},
     "output_type": "execute_result"
    }
   ],
   "source": [
    "# Confusion Matrix\n",
    "confusion_matrix(y_test, y_pred)"
   ]
  },
  {
   "cell_type": "code",
   "execution_count": 45,
   "id": "4867b809",
   "metadata": {},
   "outputs": [
    {
     "data": {
      "image/png": "[encoded data removed]",
      "text/plain": [
       "<Figure size 640x480 with 2 Axes>"
      ]
     },
     "metadata": {},
     "output_type": "display_data"
    }
   ],
   "source": [
    "disp = ConfusionMatrixDisplay(confusion_matrix = confusion_matrix(y_test, y_pred), \n",
    "                       display_labels = logreg_best.classes_)\n",
    "disp.plot()\n",
    "plt.show()"
   ]
  },
  {
   "cell_type": "markdown",
   "id": "243a8f53",
   "metadata": {},
   "source": [
    "The logistic regression model performed poorly to correctly predict the rejected loans. Plenty loans from the test set should have been rejected while they were approved (14 out of 22). We could say that the model is *over-approving*. This is also noticeable when looking at the true positives, that is, the loans predicted as approved which were actually approved (100%)\n",
    "Moreover when testing different thresholds to make the model more rigurous, the precision reaches 0.8 and then falls rapidly. \n",
    "\n",
    "We should aim for a more conservative approach, that is, one that, at least, rejects more applications. "
   ]
  },
  {
   "cell_type": "markdown",
   "id": "b46b252d",
   "metadata": {},
   "source": [
    "### 2. Decision Tree Classifier\n",
    "For the decision tree classifier we do not need to transform the data. We can simply use the original data"
   ]
  },
  {
   "cell_type": "code",
   "execution_count": 49,
   "id": "b51b3fe4",
   "metadata": {},
   "outputs": [
    {
     "data": {
      "text/plain": [
       "0.8089247311827956"
      ]
     },
     "execution_count": 49,
     "metadata": {},
     "output_type": "execute_result"
    }
   ],
   "source": [
    "from sklearn.tree import DecisionTreeClassifier\n",
    "\n",
    "tree = DecisionTreeClassifier(random_state = 25)\n",
    "\n",
    "cross_val_score(tree, X_train_sub, y_train, cv = 10).mean()\n"
   ]
  },
  {
   "cell_type": "code",
   "execution_count": 50,
   "id": "6d726296",
   "metadata": {},
   "outputs": [],
   "source": [
    "# Now let's aim for hyperparameter tunning\n",
    "from sklearn.pipeline import Pipeline\n",
    "pipe = Pipeline([(\"classifier\", DecisionTreeClassifier(random_state = 25))])\n",
    "\n",
    "# solver = \"liblinear\" works fine for small datasets such as the current\n",
    "\n",
    "search_space = [\n",
    "    {\"classifier\" : [DecisionTreeClassifier(random_state = 25)],\n",
    "     \"classifier__criterion\" : [\"gini\", \"entropy\", \"log_loss\"],\n",
    "     \"classifier__max_depth\" : list(range(1,10))\n",
    "    }\n",
    "]\n",
    "\n",
    "clf = GridSearchCV(pipe, search_space, cv = 10, verbose = 0, n_jobs = -1)"
   ]
  },
  {
   "cell_type": "code",
   "execution_count": 51,
   "id": "70cdfe80",
   "metadata": {},
   "outputs": [
    {
     "name": "stdout",
     "output_type": "stream",
     "text": [
      "DecisionTreeClassifier(max_depth=1, random_state=25)\n"
     ]
    }
   ],
   "source": [
    "tree_best = clf.fit(X_train, y_train)\n",
    "print(tree_best.best_estimator_.get_params()[\"classifier\"])"
   ]
  },
  {
   "cell_type": "code",
   "execution_count": 52,
   "id": "4f21dee8",
   "metadata": {},
   "outputs": [
    {
     "data": {
      "text/plain": [
       "0.8051948051948052"
      ]
     },
     "execution_count": 52,
     "metadata": {},
     "output_type": "execute_result"
    }
   ],
   "source": [
    "tree_best = tree.fit(X_train, y_train)\n",
    "y_pred = tree_best.predict(X_test)\n",
    "\n",
    "tree_best.score(X_test, y_test)"
   ]
  }
 ],
 "metadata": {
  "kernelspec": {
   "display_name": "Python 3 (ipykernel)",
   "language": "python",
   "name": "python3"
  },
  "language_info": {
   "codemirror_mode": {
    "name": "ipython",
    "version": 3
   },
   "file_extension": ".py",
   "mimetype": "text/x-python",
   "name": "python",
   "nbconvert_exporter": "python",
   "pygments_lexer": "ipython3",
   "version": "3.10.4"
  }
 },
 "nbformat": 4,
 "nbformat_minor": 5
}
