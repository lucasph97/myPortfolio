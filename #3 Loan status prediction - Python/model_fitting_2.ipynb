{
 "cells": [
  {
   "cell_type": "markdown",
   "id": "32bc8d3b",
   "metadata": {},
   "source": [
    "# Loan status prediction \n",
    "##### This dataset was obtained from [Kaggle](https://www.kaggle.com/datasets/bhavikjikadara/loan-status-prediction)\n",
    "For further detail refer to *descriptive_analysis.ipynb* or *pre_modelling_process.ipynb* notebooks"
   ]
  },
  {
   "cell_type": "code",
   "execution_count": 1,
   "id": "4285fc0a",
   "metadata": {},
   "outputs": [],
   "source": [
    "import sys\n",
    "import sklearn as sk\n",
    "import pandas as pd\n",
    "import matplotlib.pyplot as plt\n",
    "import numpy as np"
   ]
  },
  {
   "cell_type": "markdown",
   "id": "e87e3cbe",
   "metadata": {},
   "source": [
    "The following process was conducted carefully in *pre_modelling_process.ipynb* notebook and enhanced in the current one. Refer to the former for further detail"
   ]
  },
  {
   "cell_type": "code",
   "execution_count": 2,
   "id": "267f00c2",
   "metadata": {},
   "outputs": [],
   "source": [
    "# Load the imputed data\n",
    "df = pd.read_csv(\"loan_data_imp.csv\") \n",
    "####################################################################################################\n",
    "# Recode variables:\n",
    "df['Married'] = df['Married'].replace({'Yes': 1, 'No': 0})\n",
    "df['Education'] = df['Education'].replace({'Graduate': 1, 'Not Graduate': 0})\n",
    "df['Self_Employed'] = df['Married'].replace({'Yes': 1, 'No': 0})\n",
    "df['Loan_Status'] = df['Loan_Status'].replace({'Y': 1, 'N': 0})\n",
    "\n",
    "df2 = df.copy()\n",
    "####################################################################################################\n",
    "# Import methods to transform categorical features \n",
    "# Many methods do not work with object/string type features and thus these must be recoded\n",
    "from sklearn.compose import ColumnTransformer\n",
    "# Categorical features will be recoded using an ordinal encoder for further sequential feature selection\n",
    "from sklearn.preprocessing import OneHotEncoder\n",
    "\n",
    "numerical_features = ['LoanAmount', 'Loan_Amount_Term', 'ApplicantIncome', 'CoapplicantIncome']\n",
    "columns_to_keep_same = []\n",
    "columns_to_keep_same.extend(numerical_features)\n",
    "columns_to_keep_same.extend(['Loan_ID'])\n",
    "columns_to_keep_same.extend(['Loan_Status'])\n",
    "\n",
    "categorical_features = df.columns.difference(columns_to_keep_same).tolist()\n",
    "\n",
    "# Create a ColumnTransformer to apply one-hot encoding to categorical features\n",
    "preprocessor = ColumnTransformer(\n",
    "    transformers=[\n",
    "        ('cat', OneHotEncoder(), categorical_features)\n",
    "    ],\n",
    "    remainder='passthrough'  # Pass through numerical features without any transformation\n",
    ")\n",
    "\n",
    "# The preprocessor will return the transformed data with a different column order from the original df\n",
    "# Later I will turn the np.array into a pd.DataFrame and for that I need the right column order\n",
    "import re\n",
    "# First get the feature names ordered from the preprocessor\n",
    "preprocessor_feature_names = preprocessor.fit(df).get_feature_names_out()\n",
    "\n",
    "# Clean the \"cat__\" and \"remainder__\" prefixes\n",
    "cleaned_feature_names = [re.sub(r'^(cat__|remainder__)', '', name) for name in preprocessor_feature_names]\n",
    "\n",
    "# Transform the data\n",
    "df = preprocessor.fit_transform(df)\n",
    "df = pd.DataFrame(df, columns = cleaned_feature_names)\n",
    "\n",
    "####################################################################################################\n",
    "# Import the MinMaxScaler from the preprocessing module of sklearn\n",
    "from sklearn.preprocessing import MinMaxScaler \n",
    "scaler = MinMaxScaler()\n",
    "\n",
    "df_norm = pd.DataFrame(scaler.fit_transform(df[numerical_features]), columns = numerical_features)\n",
    "# Now combine the non-numerical features data with the normalised features\n",
    "df_norm = df.drop(numerical_features, axis = 1).join(df_norm)\n",
    "df_norm.drop('Loan_ID', inplace = True, axis = 1)\n",
    "\n",
    "for column in df_norm.columns.tolist():\n",
    "    df_norm[column] = pd.to_numeric(df_norm[column])\n",
    "\n",
    "####################################################################################################\n",
    "# Import the train_test_split function from the model_selection module\n",
    "from sklearn.model_selection import train_test_split\n",
    "\n",
    "df.sample(frac = 1, random_state = 25).reset_index(drop = True)\n",
    "df.drop('Loan_ID', inplace = True, axis = 1)\n",
    "\n",
    "for column in df.columns.tolist():\n",
    "    df[column] = pd.to_numeric(df[column])\n",
    "\n",
    "# Split approved loan data\n",
    "X_train, X_test, y_train, y_test = train_test_split(df.drop(['Loan_Status'], axis = 1), df['Loan_Status'], \n",
    "                                                    test_size = 0.2, random_state = 25, stratify = df['Loan_Status']) \n",
    "# with stratify = df['Loan_Status'] assures that we keep 71% approved and 29% rejected for both train and test sets\n",
    "# Repeat the process for normalised data\n",
    "df_norm.sample(frac = 1, random_state = 25).reset_index(drop = True)\n",
    "\n",
    "X_n_train, X_n_test, y_n_train, y_n_test = train_test_split(df_norm.drop(['Loan_Status'], axis = 1), \n",
    "                                                            df_norm['Loan_Status'], \n",
    "                                                            test_size = 0.2, random_state = 25, \n",
    "                                                            stratify = df_norm['Loan_Status']) \n",
    "# We write y_n_train and y_n_train to avoid error messages, but we will only use y_train and y_test as they are exactly the same\n",
    "####################################################################################################\n",
    "# Lastly, recode the response \n",
    "from sklearn.preprocessing import LabelEncoder\n",
    "label_encoder = LabelEncoder()\n",
    "\n",
    "y_train = label_encoder.fit_transform(y_train)\n",
    "y_test = label_encoder.fit_transform(y_test)\n",
    "\n",
    "####################################################################################################\n",
    "# Create subset of features according to the results Feature Importance Analysis\n",
    "\n",
    "# X_train_sub = X_train.drop(['Education', 'Married', 'Gender', 'Self_Employed'], axis = 1)\n",
    "# X_test_sub = X_test.drop(['Education', 'Married', 'Gender', 'Self_Employed'], axis = 1)\n",
    "\n",
    "# X_n_train_sub = X_n_train.drop(['Education', 'Married', 'Gender', 'Self_Employed'], axis = 1)\n",
    "# X_n_test_sub = X_n_test.drop(['Education', 'Married', 'Gender', 'Self_Employed'], axis = 1)"
   ]
  },
  {
   "cell_type": "markdown",
   "id": "f0231a46",
   "metadata": {},
   "source": [
    "## Model fitting process (part 2)"
   ]
  },
  {
   "cell_type": "markdown",
   "id": "8f0f8d4c",
   "metadata": {},
   "source": [
    "### 4. Gradient Boosting Models\n",
    "Gradient Boosting Models use weak learner classifiers and combine them to obtain a more powerful learner based on the pseudo-residuals obtained iteration after iteration. Most commonly used is the XGB classifier (eXtreme Gradient Boosting)"
   ]
  },
  {
   "cell_type": "code",
   "execution_count": 3,
   "id": "54051bf3",
   "metadata": {},
   "outputs": [],
   "source": [
    "from xgboost import XGBClassifier \n",
    "\n",
    "# Import method for cross validation and hyperparameter tunning \n",
    "from sklearn.model_selection import cross_val_score, GridSearchCV"
   ]
  },
  {
   "cell_type": "code",
   "execution_count": 4,
   "id": "3ad40163",
   "metadata": {},
   "outputs": [
    {
     "data": {
      "text/plain": [
       "0.7662337662337663"
      ]
     },
     "execution_count": 4,
     "metadata": {},
     "output_type": "execute_result"
    }
   ],
   "source": [
    "xgb = XGBClassifier(random_state = 25)\n",
    "xgb.fit(X_train, y_train)\n",
    "\n",
    "xgb.score(X_test, y_test)"
   ]
  },
  {
   "cell_type": "code",
   "execution_count": 5,
   "id": "743c03f5",
   "metadata": {
    "scrolled": true
   },
   "outputs": [
    {
     "name": "stdout",
     "output_type": "stream",
     "text": [
      "0.8294871794871794\n"
     ]
    }
   ],
   "source": [
    "# Fit the model using cross-validation\n",
    "print(cross_val_score(xgb, X_train, y_train, cv = 25).mean())"
   ]
  },
  {
   "cell_type": "code",
   "execution_count": 11,
   "id": "1bcb595a",
   "metadata": {},
   "outputs": [],
   "source": [
    "# Now let's aim for hyperparameter tunning\n",
    "from sklearn.metrics import make_scorer, f1_score, precision_score, recall_score, roc_auc_score, roc_curve, precision_recall_curve, ConfusionMatrixDisplay\n",
    "from sklearn.pipeline import Pipeline\n",
    "\n",
    "pipe = Pipeline([(\"classifier\", XGBClassifier(random_state = 25))])\n",
    "\n",
    "# solver = \"liblinear\" works fine for small datasets such as the current\n",
    "\n",
    "search_space = [\n",
    "    {\"classifier\" : [XGBClassifier(random_state = 25)],\n",
    "     \"classifier__eta\" : [0.1, 0.3, 0.5, 0.7, 1],\n",
    "     \"classifier__gamma\" : [0, 0.1, 0.5, 1, 5, 10],\n",
    "     \"classifier__max_depth\" : list(range(1,15)),\n",
    "     \n",
    "    }\n",
    "]\n",
    "\n",
    "#scorer = make_scorer(precision_score, response_method = 'predict')\n",
    "\n",
    "clf_xgb = GridSearchCV(pipe, search_space, cv = 10, verbose = 3, n_jobs = -1)"
   ]
  },
  {
   "cell_type": "code",
   "execution_count": 12,
   "id": "ba79086d",
   "metadata": {
    "scrolled": true
   },
   "outputs": [
    {
     "name": "stdout",
     "output_type": "stream",
     "text": [
      "Fitting 10 folds for each of 420 candidates, totalling 4200 fits\n",
      "XGBClassifier(base_score=None, booster=None, callbacks=None,\n",
      "              colsample_bylevel=None, colsample_bynode=None,\n",
      "              colsample_bytree=None, device=None, early_stopping_rounds=None,\n",
      "              enable_categorical=False, eta=0.1, eval_metric=None,\n",
      "              feature_types=None, gamma=1, grow_policy=None,\n",
      "              importance_type=None, interaction_constraints=None,\n",
      "              learning_rate=None, max_bin=None, max_cat_threshold=None,\n",
      "              max_cat_to_onehot=None, max_delta_step=None, max_depth=3,\n",
      "              max_leaves=None, min_child_weight=None, missing=nan,\n",
      "              monotone_constraints=None, multi_strategy=None, n_estimators=None,\n",
      "              n_jobs=None, num_parallel_tree=None, ...)\n"
     ]
    }
   ],
   "source": [
    "clf_xgb.fit(X_train, y_train)\n",
    "print(clf_xgb.best_estimator_.get_params()[\"classifier\"])"
   ]
  },
  {
   "cell_type": "code",
   "execution_count": 13,
   "id": "66c56c64",
   "metadata": {},
   "outputs": [
    {
     "data": {
      "text/plain": [
       "0.8548387096774193"
      ]
     },
     "execution_count": 13,
     "metadata": {},
     "output_type": "execute_result"
    }
   ],
   "source": [
    "clf_xgb.best_score_"
   ]
  },
  {
   "cell_type": "code",
   "execution_count": 14,
   "id": "dc289194",
   "metadata": {},
   "outputs": [
    {
     "data": {
      "text/plain": [
       "{'classifier': XGBClassifier(base_score=None, booster=None, callbacks=None,\n",
       "               colsample_bylevel=None, colsample_bynode=None,\n",
       "               colsample_bytree=None, device=None, early_stopping_rounds=None,\n",
       "               enable_categorical=False, eval_metric=None, feature_types=None,\n",
       "               gamma=None, grow_policy=None, importance_type=None,\n",
       "               interaction_constraints=None, learning_rate=None, max_bin=None,\n",
       "               max_cat_threshold=None, max_cat_to_onehot=None,\n",
       "               max_delta_step=None, max_depth=None, max_leaves=None,\n",
       "               min_child_weight=None, missing=nan, monotone_constraints=None,\n",
       "               multi_strategy=None, n_estimators=None, n_jobs=None,\n",
       "               num_parallel_tree=None, random_state=25, ...),\n",
       " 'classifier__eta': 0.1,\n",
       " 'classifier__gamma': 1,\n",
       " 'classifier__max_depth': 3}"
      ]
     },
     "execution_count": 14,
     "metadata": {},
     "output_type": "execute_result"
    }
   ],
   "source": [
    "clf_xgb.best_params_"
   ]
  },
  {
   "cell_type": "code",
   "execution_count": 15,
   "id": "54f9ba48",
   "metadata": {},
   "outputs": [
    {
     "name": "stdout",
     "output_type": "stream",
     "text": [
      "0.8181818181818182\n"
     ]
    }
   ],
   "source": [
    "xgb_best = XGBClassifier(random_state = 25, eta = 0.1, gamma = 1, max_depth = 3)\n",
    "xgb_best.fit(X_train, y_train)\n",
    "\n",
    "print(xgb_best.score(X_test, y_test))"
   ]
  },
  {
   "cell_type": "code",
   "execution_count": 16,
   "id": "02ce680a",
   "metadata": {},
   "outputs": [],
   "source": [
    "# Make predictions on the test set\n",
    "y_pred = xgb_best.predict(X_test)\n",
    "y_prob = xgb_best.predict_proba(X_test)#[:, 1]"
   ]
  },
  {
   "cell_type": "code",
   "execution_count": 17,
   "id": "6477a833",
   "metadata": {},
   "outputs": [
    {
     "name": "stdout",
     "output_type": "stream",
     "text": [
      "Decision tree presicion score: 0.797\n",
      "Decision tree recall score: 1.0\n",
      "Decision tree ROC score: 0.682\n",
      "Decision tree F1 score: 0.887\n"
     ]
    }
   ],
   "source": [
    "xgb_precision_score = precision_score(y_test, y_pred)\n",
    "xgb_recall_score = recall_score(y_test, y_pred)\n",
    "xgb_roc_auc_score = roc_auc_score(y_test, y_pred)\n",
    "xgb_f1_score = f1_score(y_test, y_pred)\n",
    "\n",
    "print('Decision tree presicion score: ' + str(round(xgb_precision_score,3)))\n",
    "print('Decision tree recall score: ' + str(round(xgb_recall_score,3)))\n",
    "print('Decision tree ROC score: ' + str(round(xgb_roc_auc_score,3)))\n",
    "print('Decision tree F1 score: ' + str(round(xgb_f1_score,3)))"
   ]
  },
  {
   "cell_type": "code",
   "execution_count": 18,
   "id": "653fb473",
   "metadata": {},
   "outputs": [
    {
     "data": {
      "text/plain": [
       "<sklearn.metrics._plot.roc_curve.RocCurveDisplay at 0x169a6a76650>"
      ]
     },
     "execution_count": 18,
     "metadata": {},
     "output_type": "execute_result"
    },
    {
     "data": {
      "image/png": "[encoded data removed]",
      "text/plain": [
       "<Figure size 640x480 with 1 Axes>"
      ]
     },
     "metadata": {},
     "output_type": "display_data"
    }
   ],
   "source": [
    "# ROC Curve\n",
    "from sklearn.metrics import RocCurveDisplay\n",
    "RocCurveDisplay.from_predictions(y_test, y_pred, plot_chance_level = True)"
   ]
  },
  {
   "cell_type": "code",
   "execution_count": 19,
   "id": "ad4df8f4",
   "metadata": {},
   "outputs": [
    {
     "data": {
      "text/plain": [
       "array([[ 8, 14],\n",
       "       [ 0, 55]], dtype=int64)"
      ]
     },
     "execution_count": 19,
     "metadata": {},
     "output_type": "execute_result"
    }
   ],
   "source": [
    "# Import methods to test model's perfrormance\n",
    "from sklearn.metrics import classification_report, confusion_matrix\n",
    "\n",
    "# Confusion Matrix\n",
    "confusion_matrix(y_test, y_pred)"
   ]
  },
  {
   "cell_type": "code",
   "execution_count": 20,
   "id": "b4788927",
   "metadata": {},
   "outputs": [
    {
     "data": {
      "image/png": "[encoded data removed]",
      "text/plain": [
       "<Figure size 640x480 with 2 Axes>"
      ]
     },
     "metadata": {},
     "output_type": "display_data"
    }
   ],
   "source": [
    "disp = ConfusionMatrixDisplay(confusion_matrix = confusion_matrix(y_test, y_pred), \n",
    "                       display_labels = xgb_best.classes_)\n",
    "disp.plot()\n",
    "plt.show()"
   ]
  },
  {
   "cell_type": "markdown",
   "id": "368dc13e",
   "metadata": {},
   "source": [
    "The XGB classifier had a similar performance to the logistic regression model. The false positives rate is still a flaw with this model, but the true positives classification was perfect. "
   ]
  }
 ],
 "metadata": {
  "kernelspec": {
   "display_name": "Python 3 (ipykernel)",
   "language": "python",
   "name": "python3"
  },
  "language_info": {
   "codemirror_mode": {
    "name": "ipython",
    "version": 3
   },
   "file_extension": ".py",
   "mimetype": "text/x-python",
   "name": "python",
   "nbconvert_exporter": "python",
   "pygments_lexer": "ipython3",
   "version": "3.10.4"
  }
 },
 "nbformat": 4,
 "nbformat_minor": 5
}
